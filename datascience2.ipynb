{
 "cells": [
  {
   "cell_type": "code",
   "execution_count": 26,
   "id": "e9063bf7",
   "metadata": {},
   "outputs": [],
   "source": [
    "import numpy as np\n",
    "from sklearn.preprocessing import StandardScaler\n",
    "from sklearn.model_selection import train_test_split\n",
    "from sklearn import svm\n",
    "from sklearn.metrics import accuracy_score\n",
    "import pandas as pd\n",
    "\n"
   ]
  },
  {
   "cell_type": "code",
   "execution_count": 5,
   "id": "985f14d7",
   "metadata": {},
   "outputs": [
    {
     "data": {
      "text/html": [
       "<div>\n",
       "<style scoped>\n",
       "    .dataframe tbody tr th:only-of-type {\n",
       "        vertical-align: middle;\n",
       "    }\n",
       "\n",
       "    .dataframe tbody tr th {\n",
       "        vertical-align: top;\n",
       "    }\n",
       "\n",
       "    .dataframe thead th {\n",
       "        text-align: right;\n",
       "    }\n",
       "</style>\n",
       "<table border=\"1\" class=\"dataframe\">\n",
       "  <thead>\n",
       "    <tr style=\"text-align: right;\">\n",
       "      <th></th>\n",
       "      <th>pregnancies</th>\n",
       "      <th>glucose</th>\n",
       "      <th>bloodp</th>\n",
       "      <th>skinthickness</th>\n",
       "      <th>insulin</th>\n",
       "      <th>BMI</th>\n",
       "      <th>Diabetespf</th>\n",
       "      <th>age</th>\n",
       "      <th>outcome</th>\n",
       "    </tr>\n",
       "  </thead>\n",
       "  <tbody>\n",
       "    <tr>\n",
       "      <th>1</th>\n",
       "      <td>1</td>\n",
       "      <td>46</td>\n",
       "      <td>66</td>\n",
       "      <td>29</td>\n",
       "      <td>0</td>\n",
       "      <td>26.6</td>\n",
       "      <td>0.365</td>\n",
       "      <td>43</td>\n",
       "      <td>0</td>\n",
       "    </tr>\n",
       "    <tr>\n",
       "      <th>2</th>\n",
       "      <td>8</td>\n",
       "      <td>76</td>\n",
       "      <td>67</td>\n",
       "      <td>0</td>\n",
       "      <td>0</td>\n",
       "      <td>23.3</td>\n",
       "      <td>0.756</td>\n",
       "      <td>23</td>\n",
       "      <td>1</td>\n",
       "    </tr>\n",
       "  </tbody>\n",
       "</table>\n",
       "</div>"
      ],
      "text/plain": [
       "   pregnancies  glucose  bloodp  skinthickness  insulin   BMI  Diabetespf  \\\n",
       "1            1       46      66             29        0  26.6       0.365   \n",
       "2            8       76      67              0        0  23.3       0.756   \n",
       "\n",
       "   age  outcome  \n",
       "1   43        0  \n",
       "2   23        1  "
      ]
     },
     "execution_count": 5,
     "metadata": {},
     "output_type": "execute_result"
    }
   ],
   "source": [
    "data=pd.read_csv('diabetes.csv')\n",
    "data[1:3]"
   ]
  },
  {
   "cell_type": "code",
   "execution_count": 6,
   "id": "183b0e87",
   "metadata": {},
   "outputs": [
    {
     "data": {
      "text/plain": [
       "(10, 9)"
      ]
     },
     "execution_count": 6,
     "metadata": {},
     "output_type": "execute_result"
    }
   ],
   "source": [
    "data.shape"
   ]
  },
  {
   "cell_type": "code",
   "execution_count": 7,
   "id": "8399790c",
   "metadata": {},
   "outputs": [
    {
     "data": {
      "text/html": [
       "<div>\n",
       "<style scoped>\n",
       "    .dataframe tbody tr th:only-of-type {\n",
       "        vertical-align: middle;\n",
       "    }\n",
       "\n",
       "    .dataframe tbody tr th {\n",
       "        vertical-align: top;\n",
       "    }\n",
       "\n",
       "    .dataframe thead th {\n",
       "        text-align: right;\n",
       "    }\n",
       "</style>\n",
       "<table border=\"1\" class=\"dataframe\">\n",
       "  <thead>\n",
       "    <tr style=\"text-align: right;\">\n",
       "      <th></th>\n",
       "      <th>pregnancies</th>\n",
       "      <th>glucose</th>\n",
       "      <th>bloodp</th>\n",
       "      <th>skinthickness</th>\n",
       "      <th>insulin</th>\n",
       "      <th>BMI</th>\n",
       "      <th>Diabetespf</th>\n",
       "      <th>age</th>\n",
       "      <th>outcome</th>\n",
       "    </tr>\n",
       "  </thead>\n",
       "  <tbody>\n",
       "    <tr>\n",
       "      <th>count</th>\n",
       "      <td>10.000000</td>\n",
       "      <td>10.000000</td>\n",
       "      <td>10.000000</td>\n",
       "      <td>10.000000</td>\n",
       "      <td>10.000000</td>\n",
       "      <td>10.000000</td>\n",
       "      <td>10.000000</td>\n",
       "      <td>10.000000</td>\n",
       "      <td>10.000000</td>\n",
       "    </tr>\n",
       "    <tr>\n",
       "      <th>mean</th>\n",
       "      <td>2.400000</td>\n",
       "      <td>90.700000</td>\n",
       "      <td>65.200000</td>\n",
       "      <td>24.600000</td>\n",
       "      <td>52.400000</td>\n",
       "      <td>30.940000</td>\n",
       "      <td>0.679100</td>\n",
       "      <td>49.300000</td>\n",
       "      <td>0.600000</td>\n",
       "    </tr>\n",
       "    <tr>\n",
       "      <th>std</th>\n",
       "      <td>3.169297</td>\n",
       "      <td>39.327824</td>\n",
       "      <td>11.516172</td>\n",
       "      <td>13.866026</td>\n",
       "      <td>72.004938</td>\n",
       "      <td>7.306192</td>\n",
       "      <td>0.589529</td>\n",
       "      <td>15.727188</td>\n",
       "      <td>0.516398</td>\n",
       "    </tr>\n",
       "    <tr>\n",
       "      <th>min</th>\n",
       "      <td>0.000000</td>\n",
       "      <td>45.000000</td>\n",
       "      <td>44.000000</td>\n",
       "      <td>0.000000</td>\n",
       "      <td>0.000000</td>\n",
       "      <td>23.300000</td>\n",
       "      <td>0.167000</td>\n",
       "      <td>23.000000</td>\n",
       "      <td>0.000000</td>\n",
       "    </tr>\n",
       "    <tr>\n",
       "      <th>25%</th>\n",
       "      <td>0.250000</td>\n",
       "      <td>53.500000</td>\n",
       "      <td>58.250000</td>\n",
       "      <td>23.000000</td>\n",
       "      <td>0.000000</td>\n",
       "      <td>26.600000</td>\n",
       "      <td>0.451500</td>\n",
       "      <td>43.000000</td>\n",
       "      <td>0.000000</td>\n",
       "    </tr>\n",
       "    <tr>\n",
       "      <th>50%</th>\n",
       "      <td>1.000000</td>\n",
       "      <td>82.500000</td>\n",
       "      <td>66.500000</td>\n",
       "      <td>29.000000</td>\n",
       "      <td>0.000000</td>\n",
       "      <td>28.100000</td>\n",
       "      <td>0.499500</td>\n",
       "      <td>47.500000</td>\n",
       "      <td>1.000000</td>\n",
       "    </tr>\n",
       "    <tr>\n",
       "      <th>75%</th>\n",
       "      <td>3.250000</td>\n",
       "      <td>123.750000</td>\n",
       "      <td>70.750000</td>\n",
       "      <td>35.000000</td>\n",
       "      <td>94.000000</td>\n",
       "      <td>33.600000</td>\n",
       "      <td>0.665000</td>\n",
       "      <td>56.000000</td>\n",
       "      <td>1.000000</td>\n",
       "    </tr>\n",
       "    <tr>\n",
       "      <th>max</th>\n",
       "      <td>8.000000</td>\n",
       "      <td>146.000000</td>\n",
       "      <td>87.000000</td>\n",
       "      <td>36.000000</td>\n",
       "      <td>168.000000</td>\n",
       "      <td>43.100000</td>\n",
       "      <td>2.288000</td>\n",
       "      <td>77.000000</td>\n",
       "      <td>1.000000</td>\n",
       "    </tr>\n",
       "  </tbody>\n",
       "</table>\n",
       "</div>"
      ],
      "text/plain": [
       "       pregnancies     glucose     bloodp  skinthickness     insulin  \\\n",
       "count    10.000000   10.000000  10.000000      10.000000   10.000000   \n",
       "mean      2.400000   90.700000  65.200000      24.600000   52.400000   \n",
       "std       3.169297   39.327824  11.516172      13.866026   72.004938   \n",
       "min       0.000000   45.000000  44.000000       0.000000    0.000000   \n",
       "25%       0.250000   53.500000  58.250000      23.000000    0.000000   \n",
       "50%       1.000000   82.500000  66.500000      29.000000    0.000000   \n",
       "75%       3.250000  123.750000  70.750000      35.000000   94.000000   \n",
       "max       8.000000  146.000000  87.000000      36.000000  168.000000   \n",
       "\n",
       "             BMI  Diabetespf        age    outcome  \n",
       "count  10.000000   10.000000  10.000000  10.000000  \n",
       "mean   30.940000    0.679100  49.300000   0.600000  \n",
       "std     7.306192    0.589529  15.727188   0.516398  \n",
       "min    23.300000    0.167000  23.000000   0.000000  \n",
       "25%    26.600000    0.451500  43.000000   0.000000  \n",
       "50%    28.100000    0.499500  47.500000   1.000000  \n",
       "75%    33.600000    0.665000  56.000000   1.000000  \n",
       "max    43.100000    2.288000  77.000000   1.000000  "
      ]
     },
     "execution_count": 7,
     "metadata": {},
     "output_type": "execute_result"
    }
   ],
   "source": [
    "data.describe()"
   ]
  },
  {
   "cell_type": "code",
   "execution_count": 8,
   "id": "7eef5276",
   "metadata": {},
   "outputs": [
    {
     "data": {
      "text/plain": [
       "1    6\n",
       "0    4\n",
       "Name: outcome, dtype: int64"
      ]
     },
     "execution_count": 8,
     "metadata": {},
     "output_type": "execute_result"
    }
   ],
   "source": [
    "data['outcome'].value_counts()"
   ]
  },
  {
   "cell_type": "code",
   "execution_count": 11,
   "id": "8a63119b",
   "metadata": {},
   "outputs": [
    {
     "data": {
      "text/html": [
       "<div>\n",
       "<style scoped>\n",
       "    .dataframe tbody tr th:only-of-type {\n",
       "        vertical-align: middle;\n",
       "    }\n",
       "\n",
       "    .dataframe tbody tr th {\n",
       "        vertical-align: top;\n",
       "    }\n",
       "\n",
       "    .dataframe thead th {\n",
       "        text-align: right;\n",
       "    }\n",
       "</style>\n",
       "<table border=\"1\" class=\"dataframe\">\n",
       "  <thead>\n",
       "    <tr style=\"text-align: right;\">\n",
       "      <th></th>\n",
       "      <th>pregnancies</th>\n",
       "      <th>glucose</th>\n",
       "      <th>bloodp</th>\n",
       "      <th>skinthickness</th>\n",
       "      <th>insulin</th>\n",
       "      <th>BMI</th>\n",
       "      <th>Diabetespf</th>\n",
       "      <th>age</th>\n",
       "    </tr>\n",
       "    <tr>\n",
       "      <th>outcome</th>\n",
       "      <th></th>\n",
       "      <th></th>\n",
       "      <th></th>\n",
       "      <th></th>\n",
       "      <th></th>\n",
       "      <th></th>\n",
       "      <th></th>\n",
       "      <th></th>\n",
       "    </tr>\n",
       "  </thead>\n",
       "  <tbody>\n",
       "    <tr>\n",
       "      <th>0</th>\n",
       "      <td>1.000000</td>\n",
       "      <td>64.0</td>\n",
       "      <td>71.250000</td>\n",
       "      <td>26.000000</td>\n",
       "      <td>47.0</td>\n",
       "      <td>27.350000</td>\n",
       "      <td>0.415750</td>\n",
       "      <td>50.000000</td>\n",
       "    </tr>\n",
       "    <tr>\n",
       "      <th>1</th>\n",
       "      <td>3.333333</td>\n",
       "      <td>108.5</td>\n",
       "      <td>61.166667</td>\n",
       "      <td>23.666667</td>\n",
       "      <td>56.0</td>\n",
       "      <td>33.333333</td>\n",
       "      <td>0.854667</td>\n",
       "      <td>48.833333</td>\n",
       "    </tr>\n",
       "  </tbody>\n",
       "</table>\n",
       "</div>"
      ],
      "text/plain": [
       "         pregnancies  glucose     bloodp  skinthickness  insulin        BMI  \\\n",
       "outcome                                                                       \n",
       "0           1.000000     64.0  71.250000      26.000000     47.0  27.350000   \n",
       "1           3.333333    108.5  61.166667      23.666667     56.0  33.333333   \n",
       "\n",
       "         Diabetespf        age  \n",
       "outcome                         \n",
       "0          0.415750  50.000000  \n",
       "1          0.854667  48.833333  "
      ]
     },
     "execution_count": 11,
     "metadata": {},
     "output_type": "execute_result"
    }
   ],
   "source": [
    "data.groupby('outcome').mean()"
   ]
  },
  {
   "cell_type": "code",
   "execution_count": 12,
   "id": "4a81cc49",
   "metadata": {},
   "outputs": [],
   "source": [
    "x=data.drop(columns='outcome',axis=1)\n",
    "y=data['outcome']"
   ]
  },
  {
   "cell_type": "code",
   "execution_count": 13,
   "id": "c52d9cd5",
   "metadata": {},
   "outputs": [
    {
     "name": "stdout",
     "output_type": "stream",
     "text": [
      "   pregnancies  glucose  bloodp  skinthickness  insulin   BMI  Diabetespf  age\n",
      "0            0      146      72             35        0  33.6       0.635   50\n",
      "1            1       46      66             29        0  26.6       0.365   43\n",
      "2            8       76      67              0        0  23.3       0.756   23\n",
      "3            1       87      87             23       94  28.1       0.167   45\n",
      "4            0      137      56             36      168  43.1       2.288   33\n",
      "5            4      123      72             35        0  33.6       0.450   43\n",
      "6            1       45      65             29        0  26.6       0.456   56\n",
      "7            8       45      44              0        0  23.3       0.543   67\n",
      "8            1       78      67             23       94  28.1       0.675   56\n",
      "9            0      124      56             36      168  43.1       0.456   77\n",
      "0    1\n",
      "1    0\n",
      "2    1\n",
      "3    0\n",
      "4    1\n",
      "5    1\n",
      "6    0\n",
      "7    1\n",
      "8    0\n",
      "9    1\n",
      "Name: outcome, dtype: int64\n"
     ]
    }
   ],
   "source": [
    "print(x)\n",
    "print(y)"
   ]
  },
  {
   "cell_type": "code",
   "execution_count": 16,
   "id": "4fa26b29",
   "metadata": {},
   "outputs": [],
   "source": [
    "scaler=StandardScaler()"
   ]
  },
  {
   "cell_type": "code",
   "execution_count": 17,
   "id": "97477d16",
   "metadata": {},
   "outputs": [
    {
     "data": {
      "text/plain": [
       "StandardScaler()"
      ]
     },
     "execution_count": 17,
     "metadata": {},
     "output_type": "execute_result"
    }
   ],
   "source": [
    "scaler.fit(x)"
   ]
  },
  {
   "cell_type": "code",
   "execution_count": 19,
   "id": "cbfe6cdc",
   "metadata": {},
   "outputs": [
    {
     "data": {
      "text/plain": [
       "array([[-0.79822813,  1.48219026,  0.62241422,  0.79060596, -0.76709253,\n",
       "         0.38376847, -0.07885194,  0.04691651],\n",
       "       [-0.46563307, -1.19808145,  0.0732252 ,  0.33448714, -0.76709253,\n",
       "        -0.62614855, -0.56161891, -0.4222486 ],\n",
       "       [ 1.86253229, -0.39399994,  0.16475671, -1.87008718, -0.76709253,\n",
       "        -1.10225229,  0.13749919, -1.76272033],\n",
       "       [-0.46563307, -0.09917005,  1.99538677, -0.12163169,  0.60898949,\n",
       "        -0.40973776, -0.91564802, -0.28820142],\n",
       "       [-0.79822813,  1.2409658 , -0.84208983,  0.86662577,  1.69228809,\n",
       "         1.75437014,  2.87675474, -1.09248446],\n",
       "       [ 0.53215208,  0.86572776,  0.62241422,  0.79060596, -0.76709253,\n",
       "         0.38376847, -0.40963671, -0.4222486 ],\n",
       "       [-0.46563307, -1.22488417, -0.0183063 ,  0.33448714, -0.76709253,\n",
       "        -0.62614855, -0.39890856,  0.44905803],\n",
       "       [ 1.86253229, -1.22488417, -1.94046787, -1.87008718, -0.76709253,\n",
       "        -1.10225229, -0.24335031,  1.18631749],\n",
       "       [-0.46563307, -0.34039451,  0.16475671, -0.12163169,  0.60898949,\n",
       "        -0.40973776, -0.00733091,  0.44905803],\n",
       "       [-0.79822813,  0.89253048, -0.84208983,  0.86662577,  1.69228809,\n",
       "         1.75437014, -0.39890856,  1.85655335]])"
      ]
     },
     "execution_count": 19,
     "metadata": {},
     "output_type": "execute_result"
    }
   ],
   "source": [
    "standardized_data=scaler.transform(x)\n",
    "standardized_data"
   ]
  },
  {
   "cell_type": "code",
   "execution_count": 20,
   "id": "f3bb0d42",
   "metadata": {},
   "outputs": [],
   "source": [
    "x=standardized_data\n",
    "y=data['outcome']"
   ]
  },
  {
   "cell_type": "code",
   "execution_count": 21,
   "id": "ff6a655f",
   "metadata": {},
   "outputs": [],
   "source": [
    "x_train,x_test,y_train,y_test=train_test_split(x,y,test_size=0.2,stratify=y,random_state=2)"
   ]
  },
  {
   "cell_type": "code",
   "execution_count": 22,
   "id": "ec73b48a",
   "metadata": {},
   "outputs": [
    {
     "data": {
      "text/plain": [
       "((10, 8), (8, 8), (2, 8))"
      ]
     },
     "execution_count": 22,
     "metadata": {},
     "output_type": "execute_result"
    }
   ],
   "source": [
    "x.shape,x_train.shape,x_test.shape"
   ]
  },
  {
   "cell_type": "code",
   "execution_count": 23,
   "id": "e6a47519",
   "metadata": {},
   "outputs": [
    {
     "data": {
      "text/plain": [
       "((10,), (8,), (2,))"
      ]
     },
     "execution_count": 23,
     "metadata": {},
     "output_type": "execute_result"
    }
   ],
   "source": [
    "y.shape,y_train.shape,y_test.shape"
   ]
  },
  {
   "cell_type": "code",
   "execution_count": 27,
   "id": "1705bf66",
   "metadata": {},
   "outputs": [],
   "source": [
    "classifier=svm.SVC(kernel='linear')"
   ]
  },
  {
   "cell_type": "code",
   "execution_count": 28,
   "id": "677c77ee",
   "metadata": {},
   "outputs": [
    {
     "data": {
      "text/plain": [
       "SVC(kernel='linear')"
      ]
     },
     "execution_count": 28,
     "metadata": {},
     "output_type": "execute_result"
    }
   ],
   "source": [
    "classifier.fit(x_train,y_train)"
   ]
  },
  {
   "cell_type": "code",
   "execution_count": 31,
   "id": "38c75f8d",
   "metadata": {},
   "outputs": [
    {
     "data": {
      "text/plain": [
       "1.0"
      ]
     },
     "execution_count": 31,
     "metadata": {},
     "output_type": "execute_result"
    }
   ],
   "source": [
    "x_train_accuracy=classifier.predict(x_train)\n",
    "training_data_accuracy=accuracy_score(x_train_accuracy,y_train)\n",
    "training_data_accuracy"
   ]
  },
  {
   "cell_type": "code",
   "execution_count": 32,
   "id": "86e3f0f8",
   "metadata": {},
   "outputs": [
    {
     "data": {
      "text/plain": [
       "1.0"
      ]
     },
     "execution_count": 32,
     "metadata": {},
     "output_type": "execute_result"
    }
   ],
   "source": [
    "x_test_accuracy=classifier.predict(x_test)\n",
    "test_data_accuracy=accuracy_score(x_test_accuracy,y_test)\n",
    "test_data_accuracy"
   ]
  },
  {
   "cell_type": "code",
   "execution_count": 42,
   "id": "dc359b87",
   "metadata": {},
   "outputs": [
    {
     "name": "stdout",
     "output_type": "stream",
     "text": [
      "[[-0.46563307 -0.09917005  1.99538677 -0.12163169  0.60898949 -0.40973776\n",
      "  -0.91564802 -0.28820142]]\n",
      "[0]\n",
      "not a diabetes\n"
     ]
    }
   ],
   "source": [
    "input_data=(1,87,87,23,94,28.1,0.167,45)\n",
    "input_data_as_array=np.asarray(input_data)\n",
    "input_data_reshaped=input_data_as_array.reshape(1,-1)\n",
    "std_data=scaler.transform(input_data_reshaped)\n",
    "print(std_data)\n",
    "prediction=classifier.predict(std_data)\n",
    "print(prediction)\n",
    "if (prediction[0]==0):\n",
    "    print(\"not a diabetes\")\n",
    "else:\n",
    "    print(\"diabetes\")\n"
   ]
  },
  {
   "cell_type": "code",
   "execution_count": null,
   "id": "48a695b8",
   "metadata": {},
   "outputs": [],
   "source": []
  }
 ],
 "metadata": {
  "kernelspec": {
   "display_name": "Python 3",
   "language": "python",
   "name": "python3"
  },
  "language_info": {
   "codemirror_mode": {
    "name": "ipython",
    "version": 3
   },
   "file_extension": ".py",
   "mimetype": "text/x-python",
   "name": "python",
   "nbconvert_exporter": "python",
   "pygments_lexer": "ipython3",
   "version": "3.8.8"
  }
 },
 "nbformat": 4,
 "nbformat_minor": 5
}
